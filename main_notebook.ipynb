{
 "metadata": {
  "language_info": {
   "codemirror_mode": {
    "name": "ipython",
    "version": 3
   },
   "file_extension": ".py",
   "mimetype": "text/x-python",
   "name": "python",
   "nbconvert_exporter": "python",
   "pygments_lexer": "ipython3",
   "version": "3.8.11-final"
  },
  "orig_nbformat": 2,
  "kernelspec": {
   "name": "python381164bit3811902df302a8b54a968463498d459721aa",
   "display_name": "Python 3.8.11 64-bit ('3.8.11')"
  }
 },
 "nbformat": 4,
 "nbformat_minor": 2,
 "cells": [
  {
   "cell_type": "code",
   "execution_count": 7,
   "metadata": {},
   "outputs": [
    {
     "output_type": "stream",
     "name": "stdout",
     "text": [
      "Downloading house-prices-advanced-regression-techniques.zip to /workspace/kaggle-home-prices\n  0%|                                                | 0.00/199k [00:00<?, ?B/s]\n100%|████████████████████████████████████████| 199k/199k [00:00<00:00, 25.2MB/s]\n"
     ]
    }
   ],
   "source": [
    "!kaggle competitions download -c house-prices-advanced-regression-techniques"
   ]
  },
  {
   "cell_type": "code",
   "execution_count": 8,
   "metadata": {},
   "outputs": [
    {
     "output_type": "stream",
     "name": "stdout",
     "text": [
      "Archive:  house-prices-advanced-regression-techniques.zip\n  inflating: data_description.txt    \n  inflating: sample_submission.csv   \n  inflating: test.csv                \n  inflating: train.csv               \n"
     ]
    }
   ],
   "source": [
    "!unzip house-prices-advanced-regression-techniques.zip"
   ]
  },
  {
   "cell_type": "code",
   "execution_count": null,
   "metadata": {},
   "outputs": [],
   "source": []
  }
 ]
}
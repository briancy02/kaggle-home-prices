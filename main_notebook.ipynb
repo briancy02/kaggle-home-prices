{
  "nbformat": 4,
  "nbformat_minor": 0,
  "metadata": {
    "language_info": {
      "codemirror_mode": {
        "name": "ipython",
        "version": 3
      },
      "file_extension": ".py",
      "mimetype": "text/x-python",
      "name": "python",
      "nbconvert_exporter": "python",
      "pygments_lexer": "ipython3",
      "version": "3.8.11-final"
    },
    "orig_nbformat": 2,
    "kernelspec": {
      "name": "python381164bit3811902df302a8b54a968463498d459721aa",
      "display_name": "Python 3.8.11 64-bit ('3.8.11')"
    },
    "colab": {
      "name": "main_notebook.ipynb",
      "provenance": []
    }
  },
  "cells": [
    {
      "cell_type": "markdown",
      "metadata": {
        "id": "7zLGo3HzrPxf"
      },
      "source": [
        "# **Notebook for Home Price Predictions** #\n"
      ]
    },
    {
      "cell_type": "markdown",
      "metadata": {
        "id": "HSQkzmlprNrS"
      },
      "source": [
        "<table align=\"left\">\n",
        "  <td>\n",
        "    <a target=\"_blank\" href=\"https://colab.research.google.com/github/ageron/handson-ml/blob/master/01_the_machine_learning_landscape.ipynb\"><img src=\"https://www.tensorflow.org/images/colab_logo_32px.png\" />Run in Google Colab</a>\n",
        "  </td>\n",
        "</table>"
      ]
    },
    {
      "cell_type": "markdown",
      "metadata": {
        "id": "B4zU_bv6rggZ"
      },
      "source": [
        "## **Setup**"
      ]
    },
    {
      "cell_type": "code",
      "metadata": {
        "id": "oly77CP4rnNi",
        "outputId": "cc229b2d-2929-4c67-837f-5ab43fce54cf",
        "colab": {
          "base_uri": "https://localhost:8080/"
        }
      },
      "source": [
        "!git commit -am \"initialized notebook\""
      ],
      "execution_count": 2,
      "outputs": [
        {
          "output_type": "stream",
          "text": [
            "fatal: not a git repository (or any of the parent directories): .git\n"
          ],
          "name": "stdout"
        }
      ]
    }
  ]
}